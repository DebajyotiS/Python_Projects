{
 "cells": [
  {
   "cell_type": "markdown",
   "metadata": {},
   "source": [
    "# Secret Santa - Randomiser and automatic email!"
   ]
  },
  {
   "cell_type": "code",
   "execution_count": 1,
   "metadata": {
    "collapsed": true
   },
   "outputs": [],
   "source": [
    "import smtplib\n",
    "from random import shuffle"
   ]
  },
  {
   "cell_type": "code",
   "execution_count": 5,
   "metadata": {
    "collapsed": true
   },
   "outputs": [],
   "source": [
    "#arrays for participants, their interests, addresses and email ids\n",
    "#names,addresses and email ids used are fictitious. Any resemblance is deeply regretted\n",
    "\n",
    "content = \"Dear secret santa, the person you are supposed to gift is :\"\n",
    "Personlist = [\"raghu\",\"ram\",\"vijay\",\"raman\"]\n",
    "Aux_Personlist = [\"raghu\",\"ram\",\"vijay\",\"raman\"]\n",
    "Emaillist = [\"rag@gmail.com\",\"ram@gmail.com\",\"vijay@gmail.com\",\"raman@gmail.com\"]\n",
    "Interest = [\"stuff\",\"stuff\",\"stuff\",\"stuff\"]\n",
    "Address = [\"address\",\"address\",\"address\",\"address\"]\n",
    "\n",
    "C=[]\n",
    "\n",
    "for i in range(len(Personlist)):\n",
    "    C.append(content+\" \"+ Personlist[i]+\" \"+ \"and\" +\" \" +Personlist[i]+ \"'s\"+\" \" + \"interests are\" +  \"  \"  + Interest[i] +\".  \"+ Personlist[i]+\"'s\" + \" \"+\"address is \"+\" \" + Address[i])"
   ]
  },
  {
   "cell_type": "code",
   "execution_count": 6,
   "metadata": {
    "collapsed": false
   },
   "outputs": [
    {
     "data": {
      "text/plain": [
       "\"Dear secret santa, the person you are supposed to gift is : vijay and vijay's interests are  stuff.  vijay's address is  address\""
      ]
     },
     "execution_count": 6,
     "metadata": {},
     "output_type": "execute_result"
    }
   ],
   "source": [
    "#Here, for example we shall see the third item of this array\n",
    "C[2]"
   ]
  },
  {
   "cell_type": "code",
   "execution_count": 9,
   "metadata": {
    "collapsed": false
   },
   "outputs": [
    {
     "data": {
      "text/plain": [
       "['raman raghu', 'raghu ram', 'ram vijay', 'vijay raman']"
      ]
     },
     "execution_count": 9,
     "metadata": {},
     "output_type": "execute_result"
    }
   ],
   "source": [
    "#Shuffling the list : randomzing - this is the chits in the bowl part. \n",
    "#Please see that no person get themselves\n",
    "\n",
    "shuffle(Aux_Personlist)\n",
    "DP = []\n",
    "for i in range(len(Personlist)):\n",
    "    DP.append(str(Aux_Personlist[i]+\" \"+Personlist[i]))\n",
    "DP"
   ]
  },
  {
   "cell_type": "code",
   "execution_count": null,
   "metadata": {
    "collapsed": true
   },
   "outputs": [],
   "source": [
    "server = smtplib.SMTP('smtp.gmail.com',587)\n",
    "server.ehlo()\n",
    "server.starttls()\n",
    "\n",
    "#login with your email id and password\n",
    "server.login('sender@gmail.com','***********')\n",
    "\n",
    "#Spoofing emails is not recommended and is illegal.\n",
    "\n",
    "for i in range(len(P)):\n",
    "    server.sendmail('sender@gmail.com',Emaillist[i],C[i])\n",
    "server.close()"
   ]
  }
 ],
 "metadata": {
  "kernelspec": {
   "display_name": "Python 3",
   "language": "python",
   "name": "python3"
  },
  "language_info": {
   "codemirror_mode": {
    "name": "ipython",
    "version": 3
   },
   "file_extension": ".py",
   "mimetype": "text/x-python",
   "name": "python",
   "nbconvert_exporter": "python",
   "pygments_lexer": "ipython3",
   "version": "3.6.0"
  }
 },
 "nbformat": 4,
 "nbformat_minor": 2
}
