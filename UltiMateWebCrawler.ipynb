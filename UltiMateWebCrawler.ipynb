{
 "cells": [
  {
   "cell_type": "code",
   "execution_count": 2,
   "metadata": {
    "collapsed": true
   },
   "outputs": [],
   "source": [
    "from urllib.request import urlopen as uReq                     #importing urllib and BeautifulSoup \n",
    "from bs4 import BeautifulSoup as soup\n"
   ]
  },
  {
   "cell_type": "code",
   "execution_count": 5,
   "metadata": {
    "collapsed": true
   },
   "outputs": [],
   "source": [
    "my_url = 'https://www.aldi-nord.de/produkte/schnelle-kueche-fix-lecker.html'   #This is the URL of the site that I want to scrape\n",
    "uClient = uReq(my_url)                                                 #This is Python requesting to go to that url. Notice that I called uReq which is urlopen. see first line of code\n",
    "page_html=uClient.read()                                            #Python is reading all the data in the website which is written in html\n",
    "uClient.close()\n",
    "page_soup=soup(page_html,\"html.parser\")                                #I created a BeautifulSoup object to make life simpler"
   ]
  },
  {
   "cell_type": "code",
   "execution_count": 6,
   "metadata": {
    "collapsed": false
   },
   "outputs": [
    {
     "data": {
      "text/plain": [
       "[<div class=\"mod-article-tile__content\" data-current-page-path=\"/content/aldi/germany/de/web-consumer/produkte/schnelle-kueche-fix-lecker\">\n",
       " <div class=\"mod-article-tile__info\">\n",
       " <p class=\"mod-article-tile__brand\">TRADER JOE'S®\n",
       " </p>\n",
       " <h4 class=\"mod-article-tile__title\">Feine Blattsalate</h4>\n",
       " <p>Verschiedene Sorten</p>\n",
       " </div>\n",
       " <div class=\"price price--50 price--right mod-article-tile__price\">\n",
       " <div class=\"price__label \">\n",
       " <span class=\"price__main\">\n",
       " 1.29<sup></sup></span>\n",
       " </div>\n",
       " <div class=\"price__meta\">\n",
       " <span class=\"price__unit\">\n",
       " 125-g-Beutel</span>\n",
       " <span class=\"price__base\">100 g = 1.03</span>\n",
       " </div>\n",
       " </div>\n",
       " <div class=\"mod-article-tile__meta\">\n",
       " <button class=\"mod-article-tile__btn mod-article-tile__btn--remember js-remember\"><span aria-hidden=\"true\" class=\"icon icon--list\"></span></button>\n",
       " </div>\n",
       " </div>]"
      ]
     },
     "execution_count": 6,
     "metadata": {},
     "output_type": "execute_result"
    }
   ],
   "source": [
    "containers=page_soup.findAll(\"div\",{\"class\":\"col-xs-6 col-sm-4 col-lg-3\"})   #I find all the divs in the html which have the said class. This is how I find different fields for my data file; Price, quantity etc. Basically whenever you see a findAll what it is doing is that it is searching the html for all classes or spans or whatever tag I specify with an unique identifier I specify after that\n",
    "container = containers[0]\n",
    "container.findAll(\"div\",{\"class\":\"mod-article-tile__content\"})"
   ]
  },
  {
   "cell_type": "code",
   "execution_count": 10,
   "metadata": {
    "collapsed": false
   },
   "outputs": [
    {
     "data": {
      "text/plain": [
       "str"
      ]
     },
     "execution_count": 10,
     "metadata": {},
     "output_type": "execute_result"
    }
   ],
   "source": [
    "unit=container.find_all(\"span\",{\"class\":\"price__unit\"}) #See previous block. You should really check the site out to better understand things\n",
    "unit[0].text.strip()\n",
    "base=container.findAll(\"span\",{\"class\":\"price__base\"})\n",
    "b_price=base[0].text\n",
    "\n",
    "\n",
    "type(b_price)"
   ]
  },
  {
   "cell_type": "code",
   "execution_count": 12,
   "metadata": {
    "collapsed": false
   },
   "outputs": [],
   "source": [
    "filename = \"Products.csv\" #I create a file to save all my data in\n",
    "f=open(filename,\"w\")\n",
    "headers = \"Product_Name, Brand, Price in Euros,Available Quantity,Base Price\\n\"\n",
    "f.write(headers)\n",
    "for container in containers:   #I loop through all the data sets and print them onto my created file\n",
    "    Product_Name = container.div.div.img[\"alt\"]\n",
    "    title_container=container.findAll(\"p\",{\"class\":\"mod-article-tile__brand\"})\n",
    "    brand = title_container[0].text.strip()\n",
    "    price=container.findAll(\"span\",{\"class\":\"price__main\"})\n",
    "    price = price[0].text.strip()\n",
    "    unit=container.find_all(\"span\",{\"class\":\"price__unit\"})\n",
    "    unit=unit[0].text.strip()\n",
    "    base=container.findAll(\"span\",{\"class\":\"price__base\"})\n",
    "    if not base:\n",
    "        continue\n",
    "    base=container.findAll(\"span\",{\"class\":\"price__base\"})\n",
    "    b_price=base[0].text\n",
    "        \n",
    "    \n",
    "   \n",
    "    \n",
    "        \n",
    "        \n",
    "    f.write(Product_Name + \",\" + brand + \",\" + price+ \",\" +unit+\",\"+b_price+\"\\n\")\n",
    "     \n",
    "f.close() #You must close the file to be able to open it again"
   ]
  },
  {
   "cell_type": "code",
   "execution_count": null,
   "metadata": {
    "collapsed": true
   },
   "outputs": [],
   "source": []
  },
  {
   "cell_type": "code",
   "execution_count": null,
   "metadata": {
    "collapsed": true
   },
   "outputs": [],
   "source": []
  }
 ],
 "metadata": {
  "kernelspec": {
   "display_name": "Python 3",
   "language": "python",
   "name": "python3"
  },
  "language_info": {
   "codemirror_mode": {
    "name": "ipython",
    "version": 3
   },
   "file_extension": ".py",
   "mimetype": "text/x-python",
   "name": "python",
   "nbconvert_exporter": "python",
   "pygments_lexer": "ipython3",
   "version": "3.6.0"
  }
 },
 "nbformat": 4,
 "nbformat_minor": 2
}
