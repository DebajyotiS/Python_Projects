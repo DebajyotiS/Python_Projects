{
 "cells": [
  {
   "cell_type": "code",
   "execution_count": 17,
   "metadata": {},
   "outputs": [
    {
     "data": {
      "image/png": "[encoded data removed]",
      "text/plain": [
       "<Figure size 432x288 with 1 Axes>"
      ]
     },
     "metadata": {
      "needs_background": "light"
     },
     "output_type": "display_data"
    }
   ],
   "source": [
    "\n",
    "import math\n",
    "\n",
    "import matplotlib.pyplot as plt\n",
    "\n",
    "pos_log = []\n",
    "pos_sin = []\n",
    "t = 0.1\n",
    "time = 0.0\n",
    "N = 2\n",
    "x_log = 0.1\n",
    "x_sin = math.acos(-1.0)/4.0\n",
    "\n",
    "\n",
    "while(time<100):\n",
    "    \n",
    "    \n",
    "    current_log = N*x_log*(1-x_log) * t + 0.5*N*(1-2*x_log)*t**2\n",
    "    x_log = x_log + current_log\n",
    "    pos_log.append(x_log)\n",
    "    \n",
    "    current_sin = math.sin(x_sin) * t + 0.5*math.cos(x_sin)*t**2\n",
    "    x_sin = x_sin + current_sin\n",
    "    pos_sin.append(x_sin)\n",
    "    \n",
    "    time = time + t\n",
    "    \n",
    "\n",
    "plt.plot(pos_sin,label = \"MAP: vel = sin (x)\")\n",
    "plt.plot(pos_log,label = \"MAP: vel = N*x*(1-x)\")\n",
    "plt.xlabel(\"t\")\n",
    "plt.ylabel(\"position\")\n",
    "plt.title(\"\")\n",
    "plt.legend()\n",
    "plt.show()"
   ]
  },
  {
   "cell_type": "code",
   "execution_count": 9,
   "metadata": {},
   "outputs": [],
   "source": []
  },
  {
   "cell_type": "code",
   "execution_count": 7,
   "metadata": {},
   "outputs": [],
   "source": [
    "\n",
    "\n"
   ]
  },
  {
   "cell_type": "code",
   "execution_count": 16,
   "metadata": {},
   "outputs": [],
   "source": [
    "\n"
   ]
  },
  {
   "cell_type": "code",
   "execution_count": null,
   "metadata": {},
   "outputs": [],
   "source": []
  },
  {
   "cell_type": "code",
   "execution_count": null,
   "metadata": {},
   "outputs": [],
   "source": []
  },
  {
   "cell_type": "code",
   "execution_count": null,
   "metadata": {},
   "outputs": [],
   "source": []
  }
 ],
 "metadata": {
  "kernelspec": {
   "display_name": "Python 3",
   "language": "python",
   "name": "python3"
  },
  "language_info": {
   "codemirror_mode": {
    "name": "ipython",
    "version": 3
   },
   "file_extension": ".py",
   "mimetype": "text/x-python",
   "name": "python",
   "nbconvert_exporter": "python",
   "pygments_lexer": "ipython3",
   "version": "3.6.7"
  }
 },
 "nbformat": 4,
 "nbformat_minor": 2
}
