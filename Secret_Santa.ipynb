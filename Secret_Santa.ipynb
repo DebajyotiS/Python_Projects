{
 "cells": [
  {
   "cell_type": "code",
   "execution_count": null,
   "metadata": {},
   "outputs": [],
   "source": [
    "import smtplib\n",
    "\n",
    "\n",
    "content = \"Dear Secret Santa, your recipient is : \"\n",
    "PersonList = [\"A\",\"B\",\"C\",\"D\",\"E\",\"F\"]\n",
    "EmailList = [\"EA\",\"EB\",\"EC\",\"ED\",\"EE\",\"EF\"]\n",
    "\n",
    "Interests = [\"SA\",\"SB\",\"SC\",\"SD\",\"SE\",\"SF\"]\n",
    "Address = [\"AA\",\"AB\",\"AC\",\"AD\",\"AE\",\"AF\"]\n",
    "\n",
    "sendmail = []\n",
    "\n",
    "\n",
    "for i in range(len(PersonList)):\n",
    "    sendmail.append(content+\"\"+PersonList[i]+\" \"+\"and their interests are \"+Interests[i]+\".\"+\" Recipient's address is : \"+\" \"+Address[i] )\n",
    "    "
   ]
  },
  {
   "cell_type": "code",
   "execution_count": null,
   "metadata": {},
   "outputs": [],
   "source": [
    "#Run this cell to check if all the content is in order. This is what will be sent to each participant.\n",
    "\n",
    "sendmail"
   ]
  },
  {
   "cell_type": "code",
   "execution_count": null,
   "metadata": {},
   "outputs": [],
   "source": [
    "server = smtplib.SMTP('smtp.gmail.com',587)\n",
    "server.ehlo()\n",
    "server.starttls()\n",
    "\n",
    "#login with your email id and password\n",
    "server.login('sender@gmail.com','***********')\n",
    "\n",
    "\n",
    "for i in range(len(PersonList)):\n",
    "    if i is len(PersonList):\n",
    "        server.sendmail('sender@gmail.com',PersonList[i],sendmail[1])\n",
    "    else:  \n",
    "        server.sendmail('sender@gmail.com',PersonList[i],sendmail[1])\n",
    "\n",
    "server.close()\n",
    "    \n"
   ]
  },
  {
   "cell_type": "code",
   "execution_count": null,
   "metadata": {},
   "outputs": [],
   "source": []
  }
 ],
 "metadata": {
  "kernelspec": {
   "display_name": "Python 3",
   "language": "python",
   "name": "python3"
  },
  "language_info": {
   "codemirror_mode": {
    "name": "ipython",
    "version": 3
   },
   "file_extension": ".py",
   "mimetype": "text/x-python",
   "name": "python",
   "nbconvert_exporter": "python",
   "pygments_lexer": "ipython3",
   "version": "3.7.3"
  }
 },
 "nbformat": 4,
 "nbformat_minor": 2
}
