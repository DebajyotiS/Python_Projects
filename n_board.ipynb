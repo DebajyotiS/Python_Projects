{
 "cells": [
  {
   "cell_type": "code",
   "execution_count": null,
   "metadata": {},
   "outputs": [],
   "source": [
    "import numpy as np"
   ]
  },
  {
   "cell_type": "code",
   "execution_count": null,
   "metadata": {},
   "outputs": [],
   "source": [
    "def boardgenerator(k,p):  \n",
    "    a = np.random.randint(0,p, size=(k,k))\n",
    "    return a\n",
    "\n",
    "#This function finds out the least occuring element in that array and returns the element. \n",
    "def minreplacer(array,p): \n",
    "    #Defining a dictionary to contain keys(elements) and values (frequency)\n",
    "    flist = {}\n",
    "    for i in range(0,p):\n",
    "        #Sorting that dictionary by the values (frequency)\n",
    "        flist.update({i:np.count_nonzero(array==i)})\n",
    "    #Making a list of sorted elements by their frequency count    \n",
    "    flist = sorted(flist.items(),key= lambda x : x[1])   \n",
    "    #returning the first value (the least occuring element). Print this list to see the ouput (\"print(flist)\")\n",
    "    return flist[0][0]\n",
    "\n",
    "def PopCount(array,p): \n",
    "    #Defining a dictionary to contain keys(elements) and values (frequency)\n",
    "    flist = {}\n",
    "    for i in range(0,p):\n",
    "        #Sorting that dictionary by the values (frequency)\n",
    "        flist.update({i:np.count_nonzero(array==i)})\n",
    "    #Making a list of sorted elements by their frequency count    \n",
    "    flist = sorted(flist.items(),key= lambda x : x[1])   \n",
    "    #returning the first value (the least occuring element). Print this list to see the ouput (\"print(flist)\")\n",
    "    return flist"
   ]
  },
  {
   "cell_type": "code",
   "execution_count": null,
   "metadata": {},
   "outputs": [],
   "source": [
    "N = 6\n",
    "P = 4\n",
    "\n",
    "B = boardgenerator(N,P)\n",
    "print(B)\n",
    "print(PopCount(B,P))"
   ]
  },
  {
   "cell_type": "code",
   "execution_count": null,
   "metadata": {},
   "outputs": [],
   "source": [
    "for i in range(100000):\n",
    "    x = np.random.randint(0,N)\n",
    "    y = np.random.randint(0,N)\n",
    "    replacer = minreplacer(B,P)\n",
    "    B[x][y] = replacer\n"
   ]
  },
  {
   "cell_type": "code",
   "execution_count": null,
   "metadata": {},
   "outputs": [],
   "source": [
    "print(B)\n",
    "print(PopCount(B,P))"
   ]
  },
  {
   "cell_type": "code",
   "execution_count": null,
   "metadata": {},
   "outputs": [],
   "source": []
  }
 ],
 "metadata": {
  "kernelspec": {
   "display_name": "Python 3",
   "language": "python",
   "name": "python3"
  },
  "language_info": {
   "codemirror_mode": {
    "name": "ipython",
    "version": 3
   },
   "file_extension": ".py",
   "mimetype": "text/x-python",
   "name": "python",
   "nbconvert_exporter": "python",
   "pygments_lexer": "ipython3",
   "version": "3.7.3"
  }
 },
 "nbformat": 4,
 "nbformat_minor": 2
}
