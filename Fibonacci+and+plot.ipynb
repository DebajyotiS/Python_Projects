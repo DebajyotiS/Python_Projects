{
 "cells": [
  {
   "cell_type": "code",
   "execution_count": 17,
   "metadata": {
    "collapsed": false
   },
   "outputs": [
    {
     "name": "stdout",
     "output_type": "stream",
     "text": [
      "How many terms do you want?:20\n",
      "1 2 2.0\n",
      "2 3 1.5\n",
      "3 5 1.6666666666666667\n",
      "4 8 1.6\n",
      "5 13 1.625\n",
      "6 21 1.6153846153846154\n",
      "7 34 1.619047619047619\n",
      "8 55 1.6176470588235294\n",
      "9 89 1.6181818181818182\n",
      "10 144 1.6179775280898876\n",
      "11 233 1.6180555555555556\n",
      "12 377 1.6180257510729614\n",
      "13 610 1.6180371352785146\n",
      "14 987 1.618032786885246\n",
      "15 1597 1.618034447821682\n",
      "16 2584 1.6180338134001253\n",
      "17 4181 1.618034055727554\n",
      "18 6765 1.6180339631667064\n",
      "19 10946 1.6180339985218033\n",
      "20 17711 1.618033985017358\n"
     ]
    },
    {
     "data": {
      "image/png": "[encoded data removed]",
      "text/plain": [
       "<matplotlib.figure.Figure at 0x1e596e291d0>"
      ]
     },
     "metadata": {},
     "output_type": "display_data"
    }
   ],
   "source": [
    "import numpy as np\n",
    "import matplotlib.pyplot as plt\n",
    "a=b=1;i=0\n",
    "n=int(input(\"How many terms do you want?:\"))\n",
    "x=[] \n",
    "for i in range(n):\n",
    "    x.append(i)\n",
    "y=[]\n",
    "z=[]\n",
    "for i in range(n):\n",
    "    c=a+b;d=c/b;a=b;b=c;i+=1;print(i,    c,    d)\n",
    "    y.append(c)\n",
    "    z.append(d)\n",
    "plt.plot(x,y)\n",
    "plt.plot(x,z)\n",
    "plt.show()\n",
    "    \n",
    "    \n",
    "    "
   ]
  },
  {
   "cell_type": "code",
   "execution_count": 2,
   "metadata": {
    "collapsed": false
   },
   "outputs": [
    {
     "data": {
      "text/plain": [
       "1.618033988749895"
      ]
     },
     "execution_count": 2,
     "metadata": {},
     "output_type": "execute_result"
    }
   ],
   "source": [
    "365014740723634211012237077906479355996081581501455497852747829366800199361550174096573645929019489792751/225591516161936330872512695036072072046011324913758190588638866418474627738686883405015987052796968498626\n"
   ]
  },
  {
   "cell_type": "code",
   "execution_count": null,
   "metadata": {
    "collapsed": true
   },
   "outputs": [],
   "source": []
  }
 ],
 "metadata": {
  "kernelspec": {
   "display_name": "Python 3",
   "language": "python",
   "name": "python3"
  },
  "language_info": {
   "codemirror_mode": {
    "name": "ipython",
    "version": 3
   },
   "file_extension": ".py",
   "mimetype": "text/x-python",
   "name": "python",
   "nbconvert_exporter": "python",
   "pygments_lexer": "ipython3",
   "version": "3.6.0"
  }
 },
 "nbformat": 4,
 "nbformat_minor": 2
}
